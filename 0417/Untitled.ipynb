{
 "cells": [
  {
   "cell_type": "markdown",
   "metadata": {},
   "source": [
    "### 定義リスト\n",
    "[姫路IT系勉強会](http://histudy.doorkeeper.jp/)\n",
    ":   変な人たちが集う「俺の話を聞きやがれ！」系の勉強会\n",
    "\n",
    "姫路ゆるいWeb勉強会\n",
    ":   [@_signalessさん](https://twitter.com/_signaless)という腐女子が主催している、ゆるふわ系の勉強会\n",
    "\n",
    "### 特殊属性\n",
    "ヘッダー1\t\t\t{#header1}\n",
    "============\n",
    "\n",
    "ヘッダー2\t\t\t{#header2}\n",
    "------------\n",
    "\n",
    "### テーブル  \n",
    "\n",
    "| 開催予定        | 開催日          | お題                 | 参加人数|\n",
    "| --------------- |:---------------:| -------------------- | -------:|\n",
    "| Git勉強会 Vol.1 | 2013/07/06 (土) | Gitの基本操作        | 123     |\n",
    "| Git勉強会 Vol.2 | 2013/11/09 (土) | ブランチモデルとは？ | 456     |\n",
    "| Git勉強会 Vol.3 | 未定            | 課題管理との連携     | -       |\n",
    "※ここはフォントの関係でちょっと横幅が崩れて表示されるかも・・・\n",
    "\n",
    "### 区切り文字で囲われたコードブロック\n",
    "\n",
    "~~~~\n",
    "ソースコードをここに書く\n",
    "~~~~\n",
    "\n",
    "### 打ち消し線のサポート\n",
    "~~打ち消し線~~\n",
    "\n",
    "### 区切り文字で囲われたコードブロック\n",
    "\n",
    "```\n",
    "ソースコードをここに書く\n",
    "```\n",
    "\n",
    "### ソースコードブロックのシンタックスハイライト機能\n",
    "\n",
    "```rb\n",
    "num = 0\n",
    "while num < 2 do\n",
    "   print(\"num = \", num)\n",
    "end\n",
    "print(\"End\")\n",
    "```"
   ]
  }
 ],
 "metadata": {
  "kernelspec": {
   "display_name": "Python 3",
   "language": "python",
   "name": "python3"
  },
  "language_info": {
   "codemirror_mode": {
    "name": "ipython",
    "version": 3
   },
   "file_extension": ".py",
   "mimetype": "text/x-python",
   "name": "python",
   "nbconvert_exporter": "python",
   "pygments_lexer": "ipython3",
   "version": "3.6.5"
  }
 },
 "nbformat": 4,
 "nbformat_minor": 2
}
