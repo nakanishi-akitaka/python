{
 "cells": [
  {
   "cell_type": "markdown",
   "metadata": {},
   "source": [
    "# 教師あり混合ガウスモデル(Supervised Gaussian Mixture Models, SGMM)\n",
    "\n",
    "# 概要\n",
    "* 説明変数 X と目的変数 Y の関係を、複数の正規分布の重ね合わせで表現する手法\n",
    "* Y の変数が複数の場合でも、それらの関係を考慮しながら、他の手法と組み合わせることもなく、回帰分析および逆解析をすることが可能\n",
    "* 逆解析においても、モデルの適用範囲を考慮した解が得られる\n",
    "* X と Y を合わせて混合ガウスモデルを構築\n",
    "* GMM は X と Y の同時確率密度分布 p(X, Y) に対応\n",
    "* 確率の乗法定理とベイズの定理から、p(Y|X) を求めれば回帰分析、p(X|Y) を求めれば逆解析\n",
    "\n",
    "# 定式化\n",
    "* 混合ガウス分布  \n",
    "x,yの変数の数をk,m,正規分布の数をnとする  \n",
    "z=(x1,x2,..,x_k,y1,y2,...y_m)について、混合ガウス分布を構築する  \n",
    "p(z) = Σ π_i N(z|μ_i,Σ_i)  \n",
    "p(x,y) = Σ π_i N([x,y] | [μ_xi,μ_yi] Σ_iについての2×2行列 )  \n",
    "\n",
    "* 回帰分析  \n",
    "p(y|x)  \n",
    " = Σ p(y|x,μ_xi,Σ_xxi) p(μ_xi,Σ_xxi|x)  \n",
    " = Σ p(y|x,μ_xi,Σ_xxi) p(x|μ_xi,Σ_xxi) p(μ_xi,Σ_xxi) / Σ  \n",
    "p(x|μ_xj,Σ_xxj) p(μ_xj,Σ_xxj)  \n",
    " = Σ p(y|x,μ_xi,Σ_xxi) p(x|μ_xi,Σ_xxi) π_i / Σ p(x|μ_xj,Σ_xxj) π_j  \n",
    " = Σ p(y|x,μ_xi,Σ_xxi) w_xi  \n",
    " = Σ (i番目の正規分布のyの推定値(の多変量正規分布))*(重み)  \n",
    "とw_xiを定義する  \n",
    "\n",
    "w_xiの中に出てくる、p(x|μ_xj,Σ_xxj) = (μ_xj,Σ_xxjの多変量正規分布におけるxでの確率密度)  \n",
    "\n",
    "yの推定値は、n個の推定値とそれらの重みとして与えられる。  \n",
    "どちらかを推定値とする  \n",
    "1.重みがもっとも大きい推定値  \n",
    "2.重み付きの平均値  \n",
    "XとYが非線形関係なら、2は上手くいかないことがある  \n",
    "ただし、常にどちらかがいいかは定かではない  \n",
    "\n",
    "正規分布の数はどうやって決める？  \n",
    "最尤推定やクロスバリデーションなど  \n",
    "\n",
    "\n",
    "# 参考文献\n",
    "* [Pythonコードあり] 教師あり混合ガウスモデル(Supervised Gaussian Mixture Models)で回帰分析も逆解析も自由自在に♪～Gaussian Mixture Regression(GMR)～  \n",
    "    https://datachemeng.com/gaussianmixtureregression/\n",
    "* サンプル  \n",
    "    https://github.com/hkaneko1985/sgmm"
   ]
  }
 ],
 "metadata": {
  "kernelspec": {
   "display_name": "Python 3",
   "language": "python",
   "name": "python3"
  },
  "language_info": {
   "codemirror_mode": {
    "name": "ipython",
    "version": 3
   },
   "file_extension": ".py",
   "mimetype": "text/x-python",
   "name": "python",
   "nbconvert_exporter": "python",
   "pygments_lexer": "ipython3",
   "version": "3.6.5"
  }
 },
 "nbformat": 4,
 "nbformat_minor": 2
}
