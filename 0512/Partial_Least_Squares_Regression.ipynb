{
 "cells": [
  {
   "cell_type": "markdown",
   "metadata": {},
   "source": [
    "# 部分的最小二乗回帰(Partial Least Squares Regression, PLS)\n",
    "\n",
    "# 概要\n",
    "主成分tと目的変数yの共分散t^T*yが最大になるように主成分を抽出して、重回帰分析\n",
    "\n",
    "\n",
    "# 詳細\n",
    "* 線形の回帰分析手法の１つ\n",
    "* 説明変数(記述子)の数がサンプルの数より多くても計算可能\n",
    "* 回帰式を作るときにノイズの影響を受けにくい\n",
    "* 説明変数の間の相関が高くても対応可能\n",
    "* 主成分分析をしたあとの主成分と目的変数との間で最小二乗法を行うのは主成分回帰 (PCR) であり、PLSとは異なるので注意\n",
    "* PLS回帰とかPLSRとも呼ばれているが、ここでは PLS\n",
    "* 主成分回帰PCR＝PCA＋重回帰分析とは異なる\n",
    "    * PCA　主成分tの分散t^T*tが最大になるように主成分を抽出\n",
    "    * PLS　主成分tと目的変数yの共分散t^T*yが最大になるように(以下同)\n",
    "* スケーリング(標準化)を行ってからPLS\n",
    "* 成分数の決め方　r^2_CV(r^2とは異なる)指標にする  \n",
    "    r^2_CVが最大値を取るorが最初の極大値を取るorの上昇が最初に0.03以下となる成分数\n",
    " \n",
    " # 定式化\n",
    "* 成分１\n",
    "    * X = t1 p1^T + E\n",
    "    * y = t1 q1 + f\n",
    "    * t1 = X w1\n",
    "\n",
    "* ラグランジュの未定乗数法より\n",
    "    * G = y^T t1(共分散) - μ(|w1|^2-1)\n",
    "    * w1 = X^T y / |X^T y|\n",
    "    * t1 を定義より計算\n",
    "* p1, q1はX,yの残差E,fの要素の二乗和が最小になるように決める\n",
    "    * p1 = X^T t1/t1^T t1\n",
    "    * q1 = y^T t1/t1^T t1\n",
    "* 成分２\n",
    "    * X2 = X - t1 p1^T = t2 p2^T + E2\n",
    "    * y2 = y - t1 q1^T = t2 q2^T + f2\n",
    "    * t2 = X2 w2\n",
    "* として、\n",
    "    * w2 = X2^T y2 / |X2^T y2|\n",
    "    * p2 = X^T t2/t2^T t2\n",
    "    * q2 = y^T t2/t2^T t2\n",
    "\n",
    "\n",
    "\n",
    "\n",
    "\n",
    "# 参考文献\n",
    "* 部分的最小二乗回帰(Partial Least Squares Regression, PLS)～回帰分析は最初にこれ！～  \n",
    "    https://datachemeng.com/partialleastsquares/\n"
   ]
  }
 ],
 "metadata": {
  "kernelspec": {
   "display_name": "Python 3",
   "language": "python",
   "name": "python3"
  },
  "language_info": {
   "codemirror_mode": {
    "name": "ipython",
    "version": 3
   },
   "file_extension": ".py",
   "mimetype": "text/x-python",
   "name": "python",
   "nbconvert_exporter": "python",
   "pygments_lexer": "ipython3",
   "version": "3.6.5"
  }
 },
 "nbformat": 4,
 "nbformat_minor": 2
}
