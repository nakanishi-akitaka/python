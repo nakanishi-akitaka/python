{
 "cells": [
  {
   "cell_type": "markdown",
   "metadata": {},
   "source": [
    "https://qiita.com/hidenori-t/items/0821b445a5303bca8a09\n",
    "$$\n",
    "\\begin{eqnarray}\n",
    "4a &=& ((a+a)+a)+a \\\\\n",
    "   &=& (a+a)+(a+a)\n",
    "\\end{eqnarray}\n",
    "$$\n",
    "\n",
    "```math\n",
    "\\begin{eqnarray}\n",
    "4a &=& ((a+a)+a)+a \\\\\n",
    "&=& (a+a)+(a+a)\n",
    "\\end{eqnarray}\n",
    "```\n",
    "\n",
    "https://qiita.com/hiroponz/items/c92ca196e401bed50c03\n",
    "\n",
    "$$a^2 = b^2 + c^2$$\n",
    "\n",
    "```math\n",
    "Delta = \\nabla^2 =\n",
    "frac{\\partial^2 f}{\\partial x^2} + \\frac{\\partial^2 f}{\\partial y^2}\n",
    "```\n",
    "\n",
    "http://idken.net/posts/2017-02-28-math_github/\n",
    "\n",
    "受光した信号を$x[k] (k=1 \\dots N)$、サンプリング周波数を$F_s$とします。  \n",
    "ここでは$x[n]$から周波数$F_s \\frac{n}{N}\\ (n \\in \\mathbb{N})$成分の強度を計算するとします。  \n",
    "\n",
    "まず\n",
    "$$\n",
    "\tX[n] = \\sum_{k=0}^{N-1}x[k]\\exp({-j\\frac{2 \\pi nk}{N}})\n",
    "$$\n",
    "を計算します。  \n",
    "\n",
    "次に$X[n] \\in \\mathbb{C}$の絶対値を計算することで  \n",
    "$x[k]$に含まれる周波数$F_s \\frac{n}{N}$の振幅を得ることができます。\n",
    "\n",
    "\\$が1つだと、改行なし。文章中に入れられる。\n",
    "\\$が2つだと、改行される。文章中に入れられない。"
   ]
  },
  {
   "cell_type": "code",
   "execution_count": null,
   "metadata": {},
   "outputs": [],
   "source": []
  }
 ],
 "metadata": {
  "kernelspec": {
   "display_name": "Python 3",
   "language": "python",
   "name": "python3"
  },
  "language_info": {
   "codemirror_mode": {
    "name": "ipython",
    "version": 3
   },
   "file_extension": ".py",
   "mimetype": "text/x-python",
   "name": "python",
   "nbconvert_exporter": "python",
   "pygments_lexer": "ipython3",
   "version": "3.6.5"
  }
 },
 "nbformat": 4,
 "nbformat_minor": 2
}
